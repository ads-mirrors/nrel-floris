{
 "cells": [
  {
   "cell_type": "markdown",
   "id": "ab10767e",
   "metadata": {},
   "source": [
    "# Multidimensional Wind Turbine\n",
    "\n",
    "Many external factors can affect the power and thrust curves of wind turbines. FLORIS supports the\n",
    "ability to define \"multidimensional\" wind turbines, where the power and thrust curves are defined\n",
    "as a function of external parameters. To enable this functionality, rather than defining `power`\n",
    "and `thrust_coefficient` as a function of `wind_speed` on the `power_thrust_table`, users should\n",
    "instead provide a path to a data file (described below) as `power_thrust_data_file`. Additionally,\n",
    "users must set the `multi_dimensional_cp_ct` option on the turbine definition to `True`.\n",
    "\n",
    "The power thrust data file should be a CSV file with the following columns:\n",
    "(`<external_parameter_1>`, `<external_parameter_2>`, ..., `ws`, `power`,\n",
    "`thrust_coefficient`). The external parameters can be any relevant factors that affect the turbine\n",
    "performance, and the values to be used will be specified at run time or in the FLORIS input file.\n",
    "For example, the external parameters could be air density, wave height, etc. The `ws` column should\n",
    "contain the wind speed values for specification of the power and thrust coefficient (stored in the\n",
    "`power` and `thrust_coefficient` columns, respectively). The wind speed, power, and thrust\n",
    "coefficient values should be defined for each combination of the external parameters.\n",
    "\n",
    "The user can then specify the values of the external parameters either on the FLORIS input file\n",
    "or using the `multidim_conditions` argument of `FlorisModel.set()`. The power and thrust coefficient\n",
    "are determined based on the specified conditions using a nearest-neighbor approach.\n",
    "\n",
    "The following code snippet shows an example of a multidimensional wind turbine definition and its\n",
    "corresponding power thrust data file."
   ]
  },
  {
   "cell_type": "code",
   "execution_count": null,
   "id": "cc97a774",
   "metadata": {},
   "outputs": [],
   "source": [
    "import numpy as np\n",
    "import matplotlib.pyplot as plt\n",
    "\n",
    "from floris import FlorisModel, TimeSeries\n",
    "\n",
    "n_wind_speeds = 100\n",
    "wind_speeds = np.linspace(0.1, 30, n_wind_speeds)\n",
    "\n",
    "fmodel = FlorisModel(\"defaults\") # Defaults to NREL 5MW turbine\n",
    "fmodel.set(\n",
    "    wind_data=TimeSeries(\n",
    "        wind_directions=np.zeros(n_wind_speeds),\n",
    "        wind_speeds=wind_speeds,\n",
    "        turbulence_intensities=0.06\n",
    "    ),\n",
    "    layout_x=[0],\n",
    "    layout_y=[0],\n",
    "    wind_shear=0.0,\n",
    "    turbine_type=[\"iea_15MW_floating_multi_dim_cp_ct\"],\n",
    "    reference_wind_height=-1,\n",
    ")\n",
    "\n",
    "# Now, we need to specify what external parameters to run the model for\n",
    "fmodel.set(multidim_conditions={\"Tp\": 2, \"Hs\": 1})\n",
    "fmodel.run()\n",
    "\n",
    "powers = fmodel.get_turbine_powers()\n",
    "thrust_coefficients = fmodel.get_turbine_thrust_coefficients()\n",
    "\n",
    "fig, ax = plt.subplots(2, 1, sharex=True)\n",
    "ax[0].plot(wind_speeds, powers, label=\"First condition\")\n",
    "ax[0].grid()\n",
    "ax[0].set_ylabel(\"Power [kW]\")\n",
    "ax[1].plot(wind_speeds, thrust_coefficients)\n",
    "ax[1].grid()\n",
    "ax[1].set_ylabel(\"Thrust coefficient [-]\")\n",
    "ax[1].set_xlabel(\"Wind speed [m/s]\")\n",
    "ax[1].set_xlim([0, 30])\n",
    "\n",
    "# Set a second multidimensional condition and rerun\n",
    "fmodel.set(multidim_conditions={\"Tp\": 4, \"Hs\": 5})\n",
    "fmodel.run()\n",
    "\n",
    "powers = fmodel.get_turbine_powers()\n",
    "thrust_coefficients = fmodel.get_turbine_thrust_coefficients()\n",
    "ax[0].plot(wind_speeds, powers, label=\"Second condition\")\n",
    "ax[0].legend(loc=\"upper left\")\n",
    "ax[1].plot(wind_speeds, thrust_coefficients)"
   ]
  },
  {
   "cell_type": "markdown",
   "id": "98fd51f6",
   "metadata": {},
   "source": [
    "Note that this example is not meant to be represntative of a real turbine, but rather to illustrate\n",
    "the functionality. At this time, FLORIS only support a single external condition combination at a\n",
    "time, but multiple combinations can be run sequentially as is shown above."
   ]
  },
  {
   "cell_type": "markdown",
   "id": "8c21f432",
   "metadata": {},
   "source": []
  }
 ],
 "metadata": {
  "kernelspec": {
   "display_name": "floris",
   "language": "python",
   "name": "python3"
  },
  "language_info": {
   "codemirror_mode": {
    "name": "ipython",
    "version": 3
   },
   "file_extension": ".py",
   "mimetype": "text/x-python",
   "name": "python",
   "nbconvert_exporter": "python",
   "pygments_lexer": "ipython3",
   "version": "3.13.2"
  }
 },
 "nbformat": 4,
 "nbformat_minor": 5
}
