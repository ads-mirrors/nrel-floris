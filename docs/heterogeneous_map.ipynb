{
 "cells": [
  {
   "cell_type": "markdown",
   "metadata": {},
   "source": [
    "(heterogeneous_map)=\n",
    "\n",
    "# Heterogeneous Map"
   ]
  },
  {
   "cell_type": "markdown",
   "metadata": {},
   "source": [
    "FLORIS provides a HeterogeneousMap object to enable a heterogeneity in the background wind speed. This notebook demonstrates how to use the HeterogeneousMap object in FLORIS."
   ]
  },
  {
   "cell_type": "markdown",
   "metadata": {},
   "source": [
    "Note that more detailed examples are provided within the examples_heterogeneous folder"
   ]
  },
  {
   "cell_type": "code",
   "execution_count": null,
   "metadata": {},
   "outputs": [],
   "source": [
    "import matplotlib.pyplot as plt\n",
    "import numpy as np\n",
    "\n",
    "from floris import (\n",
    "    FlorisModel,\n",
    "    HeterogeneousMap,\n",
    "    TimeSeries,\n",
    ")\n",
    "from floris.flow_visualization import visualize_heterogeneous_cut_plane, visualize_cut_plane"
   ]
  },
  {
   "cell_type": "markdown",
   "metadata": {},
   "source": [
    "## Initialization"
   ]
  },
  {
   "cell_type": "markdown",
   "metadata": {},
   "source": [
    "The HeterogeneousMap defines the heterogeneity in the background wind speed. For a set of x,y coordinates, a speed up (or low down), relative to the inflow wind speed, can be defined. This can vary according to the inflow wind speed and wind direction.  For wind directions and wind speeds not directly defined with the HeterogeneousMap, the nearest defined value is used."
   ]
  },
  {
   "cell_type": "code",
   "execution_count": null,
   "metadata": {},
   "outputs": [],
   "source": [
    "# Define a map in which there is ab observed speed up for wind from the east (90 degrees)\n",
    "# but not from the west (270 degrees)\n",
    "heterogeneous_map = HeterogeneousMap(\n",
    "    x=np.array([0.0, 0.0, 250.0, 500.0, 500.0]),\n",
    "    y=np.array([0.0, 500.0, 250.0, 0.0, 500.0]),\n",
    "    speed_multipliers=np.array(\n",
    "        [\n",
    "            [1.0, 1.0, 1.0, 1.0, 1.0],\n",
    "            [1.0, 1.0, 1.0, 1.0, 1.0],\n",
    "            [1.5, 1.0, 1.25, 1.5, 1.0],\n",
    "            [1.0, 1.5, 1.25, 1.0, 1.5],\n",
    "        ]\n",
    "    ),\n",
    "    wind_directions=np.array([270.0, 270.0, 90.0, 90.0]),\n",
    "    wind_speeds=np.array([5.0, 10.0, 5.0, 10.0]),\n",
    ")"
   ]
  },
  {
   "cell_type": "code",
   "execution_count": null,
   "metadata": {},
   "outputs": [],
   "source": [
    "# Can print basic information about the map\n",
    "print(heterogeneous_map)"
   ]
  },
  {
   "cell_type": "markdown",
   "metadata": {},
   "source": [
    "## Interpolation\n",
    "\n",
    "By default the HeterogeneousMap uses linear interpolation to determine the speed up for a given wind speed and wind direction using `scipy.interpolate.LinearNDInterpolator`. This can be changed to nearest neighbor interpolation by setting the `interp_method` argument to `'nearest'`, which uses `scipy.interpolate.NearestNDInterpolator`. The default behavior is recovered by setting `interp_method` to `'linear'`.\n",
    "\n",
    "When `interp_method` is `'linear'`, any location outside of the convex hull of points defined by `x`, `y` and `z` are given a speed multiplier of 1.0 (that is, the freestream wind speed is applied) and an \"out of bounds\" warning is raised. When `interp_method` is `'nearest'`, points \"outside\" of the specified region still get assigned the speed multiplier of the nearest specified point, and \"out of bounds\" warning is raised."
   ]
  },
  {
   "cell_type": "code",
   "execution_count": null,
   "metadata": {},
   "outputs": [],
   "source": [
    "heterogeneous_map_nearest = HeterogeneousMap(\n",
    "    x=np.array([0.0, 0.0, 250.0, 500.0, 500.0]),\n",
    "    y=np.array([0.0, 500.0, 250.0, 0.0, 500.0]),\n",
    "    speed_multipliers=np.array(\n",
    "        [\n",
    "            [1.0, 1.0, 1.0, 1.0, 1.0],\n",
    "            [1.0, 1.0, 1.0, 1.0, 1.0],\n",
    "            [1.5, 1.0, 1.25, 1.5, 1.0],\n",
    "            [1.0, 1.5, 1.25, 1.0, 1.5],\n",
    "        ]\n",
    "    ),\n",
    "    wind_directions=np.array([270.0, 270.0, 90.0, 90.0]),\n",
    "    wind_speeds=np.array([5.0, 10.0, 5.0, 10.0]),\n",
    "    interp_method=\"nearest\"\n",
    ")\n",
    "print(heterogeneous_map_nearest)"
   ]
  },
  {
   "cell_type": "markdown",
   "metadata": {},
   "source": [
    "## Visualization"
   ]
  },
  {
   "cell_type": "markdown",
   "metadata": {},
   "source": [
    "HeterogeneousMap includes methods to visualize the speed up for a given wind speed and wind direction. Note that in FLORIS, heterogeneity in the ambient flow only exists for points within the convex hull surrounding the defined points.  This boundary is illustrated in the flow.  All points outside the boundary are assume to be 1.0 * the inflow wind speed."
   ]
  },
  {
   "cell_type": "code",
   "execution_count": null,
   "metadata": {},
   "outputs": [],
   "source": [
    "# Use the HeterogeneousMap object to plot the speedup map for 3 wd/ws combinations\n",
    "fig, axarr = plt.subplots(1, 3, sharex=True, sharey=True, figsize=(15, 5))\n",
    "\n",
    "\n",
    "ax = axarr[0]\n",
    "heterogeneous_map.plot_single_speed_multiplier(\n",
    "    wind_direction=60.0, wind_speed=8.5, ax=ax, vmin=1.0, vmax=1.2\n",
    ")\n",
    "ax.set_title(\"Wind Direction = 60.0\\nWind Speed = 8.5\")\n",
    "ax.legend()\n",
    "\n",
    "ax = axarr[1]\n",
    "heterogeneous_map.plot_single_speed_multiplier(\n",
    "    wind_direction=130.0, wind_speed=4.0, ax=ax, vmin=1.0, vmax=1.2\n",
    ")\n",
    "ax.set_title(\"Wind Direction = 130.0\\nWind Speed = 4.0\")\n",
    "\n",
    "ax = axarr[2]\n",
    "heterogeneous_map.plot_single_speed_multiplier(\n",
    "    wind_direction=280.0, wind_speed=16.0, ax=ax, vmin=1.0, vmax=1.2\n",
    ")\n",
    "ax.set_title(\"Wind Direction = 280.0\\nWind Speed = 16.0\")\n",
    "fig.suptitle(\"Heterogeneous speedup map for several directions and wind speeds\")"
   ]
  },
  {
   "cell_type": "markdown",
   "metadata": {},
   "source": [
    "## Applying heterogeneity to a FlorisModel"
   ]
  },
  {
   "cell_type": "markdown",
   "metadata": {},
   "source": [
    "Applying the HeterogeneousMap to a FlorisModel is done by passing the HeterogeneousMap to a WindData object which is used to set the FlorisModel.  The WindData object constructs the appropriate speed up map for each wind direction and wind speed condition."
   ]
  },
  {
   "cell_type": "code",
   "execution_count": null,
   "metadata": {},
   "outputs": [],
   "source": [
    "# Initialize FlorisModel\n",
    "fmodel = FlorisModel(\"gch.yaml\")\n",
    "\n",
    "# Change the layout to a 2 turbine layout within the heterogeneous domain\n",
    "fmodel.set(layout_x=[200, 200.0], layout_y=[50, 450.0])\n",
    "\n",
    "# Define a TimeSeries object with 3 wind directions and wind speeds\n",
    "# and turbulence intensity and using the above HeterogeneousMap object\n",
    "time_series = TimeSeries(\n",
    "    wind_directions=np.array([275.0, 95.0, 75.0]),\n",
    "    wind_speeds=np.array([7.0, 6.2, 8.0]),\n",
    "    turbulence_intensities=0.06,\n",
    "    heterogeneous_map=heterogeneous_map,\n",
    ")\n",
    "\n",
    "# Apply the time series to the FlorisModel\n",
    "fmodel.set(wind_data=time_series)\n",
    "\n",
    "# Run the FLORIS simulation\n",
    "fmodel.run()\n",
    "\n",
    "# Visualize each of the findices\n",
    "fig, axarr = plt.subplots(3, 1, sharex=True, sharey=True, figsize=(10, 10))\n",
    "\n",
    "for findex in range(3):\n",
    "    ax = axarr[findex]\n",
    "\n",
    "    horizontal_plane = fmodel.calculate_horizontal_plane(\n",
    "        x_resolution=200, y_resolution=100, height=90.0, findex_for_viz=findex\n",
    "    )\n",
    "\n",
    "    visualize_heterogeneous_cut_plane(\n",
    "        cut_plane=horizontal_plane,\n",
    "        fmodel=fmodel,\n",
    "        ax=ax,\n",
    "        title=(\n",
    "            f\"Wind Direction = {time_series.wind_directions[findex]}\\n\"\n",
    "            f\"Wind Speed = {time_series.wind_speeds[findex]}\"\n",
    "        ),\n",
    "    )"
   ]
  },
  {
   "cell_type": "markdown",
   "metadata": {},
   "source": [
    "## Definining a 3D HeterogeneousMap"
   ]
  },
  {
   "cell_type": "markdown",
   "metadata": {},
   "source": [
    "Including a z-dimension in the HetereogeneousMap allows for a 3D heterogeneity.   This uses the underlying support in FlorisMode for 3D heterogeneous_inflow_config_by_wd.\n",
    "\n",
    "Note that when using the 3D version, wind_sheer must be set to 0.0 to avoid an error."
   ]
  },
  {
   "cell_type": "code",
   "execution_count": null,
   "metadata": {},
   "outputs": [],
   "source": [
    "# Define a 3D heterogeneous map with two z-levels\n",
    "\n",
    "heterogeneous_map = HeterogeneousMap(\n",
    "    x=np.array(\n",
    "        [\n",
    "            -1000.0,\n",
    "            -1000.0,\n",
    "            1000.0,\n",
    "            1000.0,\n",
    "            -1000.0,\n",
    "            -1000.0,\n",
    "            1000.0,\n",
    "            1000.0,\n",
    "            -1000.0,\n",
    "            -1000.0,\n",
    "            1000.0,\n",
    "            1000.0,\n",
    "        ]\n",
    "    ),\n",
    "    y=np.array(\n",
    "        [-500.0, 500.0, -500.0, 500.0, -500.0, 500.0, -500.0, 500.0, -500.00, 500.0, -500.0, 500.0]\n",
    "    ),\n",
    "    z=np.array(\n",
    "        [100.0, 100.0, 100.0, 100.0, 200.0, 200.0, 200.0, 200.0, 500.0, 500.0, 500.0, 500.0]\n",
    "    ),\n",
    "    speed_multipliers=np.array(\n",
    "        [\n",
    "            [1.0, 1.0, 1.0, 1.0, 1.1, 1.1, 1.1, 1.1, 1.5, 1.5, 1.5, 1.5],\n",
    "            [1.0, 1.0, 1.0, 1.0, 1.1, 1.1, 1.1, 1.1, 1.5, 1.5, 1.5, 1.5],\n",
    "            [1.0, 1.2, 1.2, 1.0, 1.3, 1.1, 1.1, 1.3, 1.5, 1.5, 1.5, 1.5],\n",
    "            [1.0, 1.0, 1.0, 1.0, 1.1, 1.1, 1.1, 1.1, 1.5, 1.5, 1.5, 1.5],\n",
    "        ]\n",
    "    ),\n",
    "    wind_directions=np.array([270.0, 270.0, 90.0, 90.0]),\n",
    "    wind_speeds=np.array([5.0, 10.0, 5.0, 10.0]),\n",
    ")\n",
    "print(heterogeneous_map)"
   ]
  },
  {
   "cell_type": "markdown",
   "metadata": {},
   "source": [
    "When visualizing the 3D heterogeneity, the z-height to plot must be specified (nearest defined is used)"
   ]
  },
  {
   "cell_type": "code",
   "execution_count": null,
   "metadata": {},
   "outputs": [],
   "source": [
    "heterogeneous_map.plot_single_speed_multiplier(wind_direction=90.0, wind_speed=5.0, z=100.0)"
   ]
  },
  {
   "cell_type": "code",
   "execution_count": null,
   "metadata": {},
   "outputs": [],
   "source": [
    "heterogeneous_map.plot_single_speed_multiplier(wind_direction=90.0, wind_speed=5.0, z=200.0)"
   ]
  },
  {
   "cell_type": "code",
   "execution_count": null,
   "metadata": {},
   "outputs": [],
   "source": [
    "## Apply the 3D heterogeneous map to the FlorisModel\n",
    "time_series = TimeSeries(\n",
    "    wind_directions=np.array([275.0, 95.0, 75.0]),\n",
    "    wind_speeds=np.array([7.0, 6.2, 8.0]),\n",
    "    turbulence_intensities=0.06,\n",
    "    heterogeneous_map=heterogeneous_map,\n",
    ")\n",
    "\n",
    "# Apply the time series to the FlorisModel, make sure to set wind_shear to 0.0\n",
    "fmodel.set(wind_data=time_series, wind_shear=0.0)\n",
    "\n",
    "# Run the FLORIS simulation\n",
    "fmodel.run()"
   ]
  },
  {
   "cell_type": "code",
   "execution_count": null,
   "metadata": {},
   "outputs": [],
   "source": [
    "# Show a horizontal and y plane slice (note that heterogeneity is only defined within the hull of points)\n",
    "\n",
    "# Visualize each of the findices\n",
    "fig, axarr = plt.subplots(2, 1, sharex=True, sharey=False, figsize=(5, 7))\n",
    "findex = 0\n",
    "\n",
    "ax = axarr[0]\n",
    "horizontal_plane = fmodel.calculate_horizontal_plane(\n",
    "    x_resolution=200, y_resolution=100, height=90.0, findex_for_viz=findex\n",
    ")\n",
    "\n",
    "visualize_heterogeneous_cut_plane(\n",
    "    cut_plane=horizontal_plane,\n",
    "    fmodel=fmodel,\n",
    "    ax=ax,\n",
    "    title=(\n",
    "        f\"Wind Direction = {time_series.wind_directions[findex]}\\n\"\n",
    "        f\"Wind Speed = {time_series.wind_speeds[findex]}\"\n",
    "    ),\n",
    ")\n",
    "\n",
    "ax = axarr[1]\n",
    "y_plane = fmodel.calculate_y_plane(\n",
    "    x_resolution=200,\n",
    "    z_resolution=100,\n",
    "    findex_for_viz=findex,\n",
    "    crossstream_dist=400.0,  # x_bounds=[-200,500]\n",
    ")\n",
    "\n",
    "visualize_cut_plane(\n",
    "    cut_plane=y_plane,\n",
    "    ax=ax,\n",
    "    title=(\n",
    "        f\"Wind Direction = {time_series.wind_directions[findex]}\\n\"\n",
    "        f\"Wind Speed = {time_series.wind_speeds[findex]}\"\n",
    "    ),\n",
    ")"
   ]
  }
 ],
 "metadata": {
  "kernelspec": {
   "display_name": "floris",
   "language": "python",
   "name": "python3"
  },
  "language_info": {
   "codemirror_mode": {
    "name": "ipython",
    "version": 3
   },
   "file_extension": ".py",
   "mimetype": "text/x-python",
   "name": "python",
   "nbconvert_exporter": "python",
   "pygments_lexer": "ipython3",
   "version": "3.13.2"
  }
 },
 "nbformat": 4,
 "nbformat_minor": 2
}
