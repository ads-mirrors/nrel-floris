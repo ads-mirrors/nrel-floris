{
 "cells": [
  {
   "cell_type": "markdown",
   "id": "ab10767e",
   "metadata": {},
   "source": [
    "# Wind turbine models\n",
    "\n",
    "FLORIS generally represents wind turbines as actuator disks specified by a power curve and a\n",
    "thrust coefficient curve (both specified as a function of wind speed). We can easily investigate the\n",
    "power and thrust coefficients of a turbine by running a single-turbine `FlorisModel` using a range\n",
    "of wind speeds."
   ]
  },
  {
   "cell_type": "code",
   "execution_count": null,
   "id": "cc97a774",
   "metadata": {},
   "outputs": [],
   "source": [
    "import numpy as np\n",
    "import matplotlib.pyplot as plt\n",
    "\n",
    "from floris import FlorisModel, TimeSeries\n",
    "\n",
    "n_wind_speeds = 100\n",
    "wind_speeds = np.linspace(0.1, 30, n_wind_speeds)\n",
    "\n",
    "fmodel = FlorisModel(\"defaults\") # Defaults to NREL 5MW turbine\n",
    "fmodel.set(\n",
    "    wind_data=TimeSeries(\n",
    "        wind_directions=np.zeros(n_wind_speeds),\n",
    "        wind_speeds=wind_speeds,\n",
    "        turbulence_intensities=0.06\n",
    "    ),\n",
    "    layout_x=[0],\n",
    "    layout_y=[0],\n",
    "    wind_shear=0.0\n",
    ")\n",
    "\n",
    "fmodel.run()\n",
    "\n",
    "powers = fmodel.get_turbine_powers()\n",
    "thrust_coefficients = fmodel.get_turbine_thrust_coefficients()\n",
    "\n",
    "fig, ax = plt.subplots(2, 1, sharex=True)\n",
    "ax[0].plot(wind_speeds, powers)\n",
    "ax[0].grid()\n",
    "ax[0].set_ylabel(\"Power [kW]\")\n",
    "ax[1].plot(wind_speeds, thrust_coefficients)\n",
    "ax[1].grid()\n",
    "ax[1].set_ylabel(\"Thrust coefficient [-]\")\n",
    "ax[1].set_xlabel(\"Wind speed [m/s]\")\n",
    "ax[1].set_xlim([0, 30])"
   ]
  },
  {
   "cell_type": "markdown",
   "id": "88d2ebce",
   "metadata": {},
   "source": [
    "## Prepackaged turbine models\n",
    "\n",
    "FLORIS ships with three reference wind turbine models: the NREL 5MW turbine\n",
    "{cite:t}`jonkman_NREL5MW_2009`,\n",
    "the IEA 10 MW turbine {cite:t}`kainz_IEA10MW_2024`, and the IEA 15 MW turbine\n",
    "{cite:t}`gaertner_IEA15MW_2020`. The\n",
    "turbine models used for FLORIS simulations can be changed by specifying the `turbine_type` keyword\n",
    "argument to `FlorisModel.set()`. See {ref}`turbine_library` for more details."
   ]
  },
  {
   "cell_type": "code",
   "execution_count": null,
   "id": "7c1ec9ba",
   "metadata": {},
   "outputs": [],
   "source": [
    "fig, ax = plt.subplots(2, 1, sharex=True)\n",
    "\n",
    "turbine_models = [\"nrel_5MW\", \"iea_10MW\", \"iea_15MW\"]\n",
    "\n",
    "for turbine_model in turbine_models:\n",
    "    fmodel.set(turbine_type=[turbine_model], reference_wind_height=-1)\n",
    "\n",
    "    fmodel.run()\n",
    "\n",
    "    powers = fmodel.get_turbine_powers()\n",
    "    thrust_coefficients = fmodel.get_turbine_thrust_coefficients()\n",
    "\n",
    "    ax[0].plot(wind_speeds, powers, label=turbine_model)\n",
    "    ax[1].plot(wind_speeds, thrust_coefficients)\n",
    "\n",
    "\n",
    "ax[0].grid()\n",
    "ax[0].set_ylabel(\"Power [kW]\")\n",
    "ax[0].legend()\n",
    "ax[1].grid()\n",
    "ax[1].set_ylabel(\"Thrust coefficient [-]\")\n",
    "ax[1].set_xlabel(\"Wind speed [m/s]\")\n",
    "ax[1].set_xlim([0, 30])"
   ]
  },
  {
   "cell_type": "markdown",
   "id": "bd2c8544",
   "metadata": {},
   "source": [
    "## User-defined wind turbine models\n",
    "\n",
    "Users may also provide their own wind turbine models, provided that they contain the appropriate\n",
    "information. To include your own wind turbine model in your main FLORIS input YAML, use the\n",
    "`!include` specifier, e.g.\n",
    "```\n",
    "  turbine_type:\n",
    "  - !include path/to/your/turbine.yaml\n",
    "```\n",
    "\n",
    "You can also `set` the `turbine_type` to your own turbine using the path, e.g.\n",
    "```python\n",
    "fmodel.set(turbine_type=[\"path/to/your/turbine.yaml\"])\n",
    "```"
   ]
  },
  {
   "cell_type": "markdown",
   "id": "cdd9ad19",
   "metadata": {},
   "source": [
    "The following pages describe in closer detail how wind turbines are implemented in FLORIS and\n",
    "provide information on advanced wind turbine operation and modeling.\n",
    "\n",
    "```{note}\n",
    "The `TurbineInterface` and `TurbineLibrary` classes are now deprecated and will be removed in a\n",
    "future release. Users should simply use an instantiated `FlorisModel` to investigate wind turbine\n",
    "models.\n",
    "```"
   ]
  },
  {
   "cell_type": "markdown",
   "id": "98fd51f6",
   "metadata": {},
   "source": []
  }
 ],
 "metadata": {
  "kernelspec": {
   "display_name": "floris",
   "language": "python",
   "name": "python3"
  },
  "language_info": {
   "codemirror_mode": {
    "name": "ipython",
    "version": 3
   },
   "file_extension": ".py",
   "mimetype": "text/x-python",
   "name": "python",
   "nbconvert_exporter": "python",
   "pygments_lexer": "ipython3",
   "version": "3.13.2"
  }
 },
 "nbformat": 4,
 "nbformat_minor": 5
}
